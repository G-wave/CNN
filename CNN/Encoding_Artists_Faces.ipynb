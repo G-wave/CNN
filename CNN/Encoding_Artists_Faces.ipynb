{
 "cells": [
  {
   "cell_type": "markdown",
   "metadata": {
    "collapsed": true
   },
   "source": [
    "# Generate Face Encodings for Known Artists"
   ]
  },
  {
   "cell_type": "code",
   "execution_count": 1,
   "metadata": {
    "collapsed": true
   },
   "outputs": [],
   "source": [
    "from datetime import datetime\n",
    "import argparse\n",
    "import cv2\n",
    "import face_recognition\n",
    "import pickle\n",
    "import os\n",
    "import numpy as np\n",
    "from imutils import paths"
   ]
  },
  {
   "cell_type": "code",
   "execution_count": 2,
   "metadata": {},
   "outputs": [
    {
     "data": {
      "text/plain": [
       "_StoreAction(option_strings=['-o', '--encoding'], dest='encoding', nargs=None, const=None, default='FaceEncoding.pickle', type=None, choices=None, help='Path to the Dictionary File of known artists face encordings', metavar=None)"
      ]
     },
     "execution_count": 2,
     "metadata": {},
     "output_type": "execute_result"
    }
   ],
   "source": [
    "# Argument Parser with 2 parameters: \n",
    "# 1. image_set specifies the folder in which subfolders are the name of the artists, i.e. /image_set/<artist>/<FileName>.png\n",
    "# 2. encoding specifies the dictionary file in which the encodings of known artists are stored\n",
    "\n",
    "parser = argparse.ArgumentParser()\n",
    "parser.add_argument('-i','--image_set', help='Path to the Directory of Face Images Dataset', default='image_set')\n",
    "parser.add_argument('-o','--encoding', help='Path to the Dictionary File of known artists face encordings',   \n",
    "                    default='FaceEncoding.pickle')"
   ]
  },
  {
   "cell_type": "markdown",
   "metadata": {},
   "source": [
    "### Arguments with default value: dataset is the subfolder 'dataset', encoding is 'FaceEncoding.pickle'"
   ]
  },
  {
   "cell_type": "code",
   "execution_count": 3,
   "metadata": {},
   "outputs": [
    {
     "name": "stdout",
     "output_type": "stream",
     "text": [
      "Namespace(encoding='FaceEncoding.pickle', image_set='image_set')\n"
     ]
    }
   ],
   "source": [
    "#args = parser.parse_args(['-i','dataset','-o','FaceEncoding.pickle'])\n",
    "args = parser.parse_args([])\n",
    "print(args)"
   ]
  },
  {
   "cell_type": "code",
   "execution_count": 4,
   "metadata": {},
   "outputs": [
    {
     "name": "stdout",
     "output_type": "stream",
     "text": [
      "There are 236 images in the folder image_set.\n"
     ]
    }
   ],
   "source": [
    "# imgPaths is a list which lists all the image files in folder dataset\n",
    "imgPaths = list(paths.list_images(args.image_set))\n",
    "print(f\"There are {len(imgPaths)} images in the folder {args.image_set}.\")"
   ]
  },
  {
   "cell_type": "markdown",
   "metadata": {},
   "source": [
    "### Initialization "
   ]
  },
  {
   "cell_type": "code",
   "execution_count": 5,
   "metadata": {
    "collapsed": true
   },
   "outputs": [],
   "source": [
    "knownEncodings = []\n",
    "knownArtists = []\n",
    "start = datetime.now()\n",
    "end = datetime.now()"
   ]
  },
  {
   "cell_type": "markdown",
   "metadata": {},
   "source": [
    "# Important Assumption: There is only one face in each photo during the encoding process!!!"
   ]
  },
  {
   "cell_type": "markdown",
   "metadata": {},
   "source": [
    "### Steps of Face Encoding Generation\n",
    "#### 1. Get the artist name\n",
    "#### 2. Read the image, convert the image from BGR to RGB\n",
    "#### 3. Locate the face bounding box \n",
    "#### 4. Generating Face Encoding (Based on image and bounding box)\n",
    "#### 5. Building a dictionary of Encodings\n",
    "#### 6. Dump the dictionary to file"
   ]
  },
  {
   "cell_type": "code",
   "execution_count": 6,
   "metadata": {},
   "outputs": [
    {
     "name": "stdout",
     "output_type": "stream",
     "text": [
      "processing Hina File19.png:     1 of  236, percentage:  0.42%, seconds spend: 0.92, total minutes spend: 0.02 \n",
      "processing Hina File3.png:     2 of  236, percentage:  0.85%, seconds spend: 3.51, total minutes spend: 0.07 \n",
      "processing Hina File2.png:     3 of  236, percentage:  1.27%, seconds spend: 2.70, total minutes spend: 0.12 \n",
      "processing Hina File18.png:     4 of  236, percentage:  1.69%, seconds spend: 3.84, total minutes spend: 0.18 \n",
      "processing Hina File1.png:     5 of  236, percentage:  2.12%, seconds spend: 2.75, total minutes spend: 0.23 \n",
      "processing Hina File5.png:     6 of  236, percentage:  2.54%, seconds spend: 3.38, total minutes spend: 0.29 \n",
      "processing Hina File4.png:     7 of  236, percentage:  2.97%, seconds spend: 2.75, total minutes spend: 0.33 \n",
      "processing Hina File20.png:     8 of  236, percentage:  3.39%, seconds spend: 3.33, total minutes spend: 0.39 \n",
      "processing Hina File6.png:     9 of  236, percentage:  3.81%, seconds spend: 2.45, total minutes spend: 0.43 \n",
      "processing Hina File7.png:    10 of  236, percentage:  4.24%, seconds spend: 2.65, total minutes spend: 0.47 \n",
      "processing Hina File21.png:    11 of  236, percentage:  4.66%, seconds spend: 3.18, total minutes spend: 0.52 \n",
      "processing Hina File10.png:    12 of  236, percentage:  5.08%, seconds spend: 2.94, total minutes spend: 0.57 \n",
      "processing Hina File11.png:    13 of  236, percentage:  5.51%, seconds spend: 4.10, total minutes spend: 0.64 \n",
      "processing Hina File13.png:    14 of  236, percentage:  5.93%, seconds spend: 3.45, total minutes spend: 0.70 \n",
      "processing Hina File9.png:    15 of  236, percentage:  6.36%, seconds spend: 3.27, total minutes spend: 0.75 \n",
      "processing Hina File8.png:    16 of  236, percentage:  6.78%, seconds spend: 2.33, total minutes spend: 0.79 \n",
      "processing Hina File12.png:    17 of  236, percentage:  7.20%, seconds spend: 3.80, total minutes spend: 0.86 \n",
      "processing Hina File16.png:    18 of  236, percentage:  7.63%, seconds spend: 2.64, total minutes spend: 0.90 \n",
      "processing Hina File17.png:    19 of  236, percentage:  8.05%, seconds spend: 3.33, total minutes spend: 0.96 \n",
      "processing Hina File15.png:    20 of  236, percentage:  8.47%, seconds spend: 3.96, total minutes spend: 1.02 \n",
      "processing Hina File14.png:    21 of  236, percentage:  8.90%, seconds spend: 3.17, total minutes spend: 1.07 \n",
      "processing Krystian File19.png:    22 of  236, percentage:  9.32%, seconds spend: 2.77, total minutes spend: 1.12 \n",
      "processing Krystian File3.png:    23 of  236, percentage:  9.75%, seconds spend: 9.19, total minutes spend: 1.27 \n",
      "processing Krystian File2.png:    24 of  236, percentage:  10.17%, seconds spend: 2.78, total minutes spend: 1.32 \n",
      "processing Krystian File18.png:    25 of  236, percentage:  10.59%, seconds spend: 2.24, total minutes spend: 1.36 \n",
      "processing Krystian File1.png:    26 of  236, percentage:  11.02%, seconds spend: 8.44, total minutes spend: 1.50 \n",
      "processing Krystian File5.png:    27 of  236, percentage:  11.44%, seconds spend: 1.64, total minutes spend: 1.53 \n",
      "processing Krystian File4.png:    28 of  236, percentage:  11.86%, seconds spend: 1.72, total minutes spend: 1.55 \n",
      "processing Krystian File20.png:    29 of  236, percentage:  12.29%, seconds spend: 2.61, total minutes spend: 1.60 \n",
      "processing Krystian File6.png:    30 of  236, percentage:  12.71%, seconds spend: 5.29, total minutes spend: 1.69 \n",
      "processing Krystian File7.png:    31 of  236, percentage:  13.14%, seconds spend: 1.97, total minutes spend: 1.72 \n",
      "processing Krystian File10.png:    32 of  236, percentage:  13.56%, seconds spend: 1.75, total minutes spend: 1.75 \n",
      "processing Krystian File11.png:    33 of  236, percentage:  13.98%, seconds spend: 1.57, total minutes spend: 1.77 \n",
      "processing Krystian File13.png:    34 of  236, percentage:  14.41%, seconds spend: 7.33, total minutes spend: 1.90 \n",
      "processing Krystian File9.png:    35 of  236, percentage:  14.83%, seconds spend: 6.15, total minutes spend: 2.00 \n",
      "processing Krystian File8.png:    36 of  236, percentage:  15.25%, seconds spend: 2.21, total minutes spend: 2.04 \n",
      "processing Krystian File12.png:    37 of  236, percentage:  15.68%, seconds spend: 1.80, total minutes spend: 2.07 \n",
      "processing Krystian File16.png:    38 of  236, percentage:  16.10%, seconds spend: 4.81, total minutes spend: 2.15 \n",
      "processing Krystian File17.png:    39 of  236, percentage:  16.53%, seconds spend: 7.22, total minutes spend: 2.27 \n",
      "processing Krystian File15.png:    40 of  236, percentage:  16.95%, seconds spend: 9.47, total minutes spend: 2.42 \n",
      "processing Krystian File14.png:    41 of  236, percentage:  17.37%, seconds spend: 5.85, total minutes spend: 2.52 \n",
      "processing Bailey File19.png:    42 of  236, percentage:  17.80%, seconds spend: 5.12, total minutes spend: 2.61 \n",
      "processing Bailey File3.png:    43 of  236, percentage:  18.22%, seconds spend: 3.22, total minutes spend: 2.66 \n",
      "processing Bailey File2.png:    44 of  236, percentage:  18.64%, seconds spend: 3.22, total minutes spend: 2.71 \n",
      "processing Bailey File18.png:    45 of  236, percentage:  19.07%, seconds spend: 1.20, total minutes spend: 2.73 \n",
      "processing Bailey File1.png:    46 of  236, percentage:  19.49%, seconds spend: 3.35, total minutes spend: 2.79 \n",
      "processing Bailey File5.png:    47 of  236, percentage:  19.92%, seconds spend: 1.48, total minutes spend: 2.81 \n",
      "processing Bailey File4.png:    48 of  236, percentage:  20.34%, seconds spend: 2.67, total minutes spend: 2.86 \n",
      "processing Bailey File20.png:    49 of  236, percentage:  20.76%, seconds spend: 1.23, total minutes spend: 2.88 \n",
      "processing Bailey File6.png:    50 of  236, percentage:  21.19%, seconds spend: 2.82, total minutes spend: 2.93 \n",
      "processing Bailey File7.png:    51 of  236, percentage:  21.61%, seconds spend: 1.52, total minutes spend: 2.95 \n",
      "processing Bailey File10.png:    52 of  236, percentage:  22.03%, seconds spend: 2.27, total minutes spend: 2.99 \n",
      "processing Bailey File11.png:    53 of  236, percentage:  22.46%, seconds spend: 0.73, total minutes spend: 3.00 \n",
      "processing Bailey File13.png:    54 of  236, percentage:  22.88%, seconds spend: 2.70, total minutes spend: 3.05 \n",
      "processing Bailey File9.png:    55 of  236, percentage:  23.31%, seconds spend: 2.48, total minutes spend: 3.09 \n",
      "processing Bailey File8.png:    56 of  236, percentage:  23.73%, seconds spend: 2.50, total minutes spend: 3.13 \n",
      "processing Bailey File12.png:    57 of  236, percentage:  24.15%, seconds spend: 3.21, total minutes spend: 3.18 \n",
      "processing Bailey File16.png:    58 of  236, percentage:  24.58%, seconds spend: 3.27, total minutes spend: 3.24 \n",
      "processing Bailey File17.png:    59 of  236, percentage:  25.00%, seconds spend: 0.69, total minutes spend: 3.25 \n",
      "processing Bailey File15.png:    60 of  236, percentage:  25.42%, seconds spend: 1.58, total minutes spend: 3.28 \n",
      "processing Bailey File14.png:    61 of  236, percentage:  25.85%, seconds spend: 1.64, total minutes spend: 3.30 \n",
      "processing Heyoon File19.png:    62 of  236, percentage:  26.27%, seconds spend: 3.15, total minutes spend: 3.36 \n",
      "processing Heyoon File3.png:    63 of  236, percentage:  26.69%, seconds spend: 1.97, total minutes spend: 3.39 \n",
      "processing Heyoon File2.png:    64 of  236, percentage:  27.12%, seconds spend: 2.60, total minutes spend: 3.43 \n",
      "processing Heyoon File18.png:    65 of  236, percentage:  27.54%, seconds spend: 2.74, total minutes spend: 3.48 \n",
      "processing Heyoon File1.png:    66 of  236, percentage:  27.97%, seconds spend: 1.64, total minutes spend: 3.50 \n",
      "processing Heyoon File5.png:    67 of  236, percentage:  28.39%, seconds spend: 2.43, total minutes spend: 3.54 \n",
      "processing Heyoon File4.png:    68 of  236, percentage:  28.81%, seconds spend: 2.57, total minutes spend: 3.59 \n",
      "processing Heyoon File20.png:    69 of  236, percentage:  29.24%, seconds spend: 2.60, total minutes spend: 3.63 \n",
      "processing Heyoon File6.png:    70 of  236, percentage:  29.66%, seconds spend: 2.72, total minutes spend: 3.68 \n",
      "processing Heyoon File7.png:    71 of  236, percentage:  30.08%, seconds spend: 2.62, total minutes spend: 3.72 \n",
      "processing Heyoon File10.png:    72 of  236, percentage:  30.51%, seconds spend: 2.43, total minutes spend: 3.76 \n",
      "processing Heyoon File11.png:    73 of  236, percentage:  30.93%, seconds spend: 2.55, total minutes spend: 3.80 \n"
     ]
    },
    {
     "name": "stdout",
     "output_type": "stream",
     "text": [
      "processing Heyoon File13.png:    74 of  236, percentage:  31.36%, seconds spend: 3.14, total minutes spend: 3.86 \n",
      "processing Heyoon File9.png:    75 of  236, percentage:  31.78%, seconds spend: 2.55, total minutes spend: 3.90 \n",
      "processing Heyoon File8.png:    76 of  236, percentage:  32.20%, seconds spend: 1.64, total minutes spend: 3.93 \n",
      "processing Heyoon File12.png:    77 of  236, percentage:  32.63%, seconds spend: 2.52, total minutes spend: 3.97 \n",
      "processing Heyoon File16.png:    78 of  236, percentage:  33.05%, seconds spend: 1.94, total minutes spend: 4.00 \n",
      "processing Heyoon File17.png:    79 of  236, percentage:  33.47%, seconds spend: 1.99, total minutes spend: 4.03 \n",
      "processing Heyoon File15.png:    80 of  236, percentage:  33.90%, seconds spend: 1.81, total minutes spend: 4.06 \n",
      "processing Heyoon File14.png:    81 of  236, percentage:  34.32%, seconds spend: 1.80, total minutes spend: 4.09 \n",
      "processing Sofya File19.png:    82 of  236, percentage:  34.75%, seconds spend: 2.80, total minutes spend: 4.14 \n",
      "processing Sofya File3.png:    83 of  236, percentage:  35.17%, seconds spend: 2.05, total minutes spend: 4.17 \n",
      "processing Sofya File2.png:    84 of  236, percentage:  35.59%, seconds spend: 3.12, total minutes spend: 4.23 \n",
      "processing Sofya File18.png:    85 of  236, percentage:  36.02%, seconds spend: 3.30, total minutes spend: 4.28 \n",
      "processing Sofya File1.png:    86 of  236, percentage:  36.44%, seconds spend: 1.93, total minutes spend: 4.31 \n",
      "processing Sofya File5.png:    87 of  236, percentage:  36.86%, seconds spend: 3.28, total minutes spend: 4.37 \n",
      "processing Sofya File4.png:    88 of  236, percentage:  37.29%, seconds spend: 1.59, total minutes spend: 4.39 \n",
      "processing Sofya File20.png:    89 of  236, percentage:  37.71%, seconds spend: 1.72, total minutes spend: 4.42 \n",
      "processing Sofya File6.png:    90 of  236, percentage:  38.14%, seconds spend: 2.50, total minutes spend: 4.46 \n",
      "processing Sofya File7.png:    91 of  236, percentage:  38.56%, seconds spend: 2.60, total minutes spend: 4.51 \n",
      "processing Sofya File10.png:    92 of  236, percentage:  38.98%, seconds spend: 2.20, total minutes spend: 4.54 \n",
      "processing Sofya File11.png:    93 of  236, percentage:  39.41%, seconds spend: 2.67, total minutes spend: 4.59 \n",
      "processing Sofya File13.png:    94 of  236, percentage:  39.83%, seconds spend: 2.59, total minutes spend: 4.63 \n",
      "processing Sofya File9.png:    95 of  236, percentage:  40.25%, seconds spend: 2.48, total minutes spend: 4.67 \n",
      "processing Sofya File8.png:    96 of  236, percentage:  40.68%, seconds spend: 3.35, total minutes spend: 4.73 \n",
      "processing Sofya File12.png:    97 of  236, percentage:  41.10%, seconds spend: 2.60, total minutes spend: 4.77 \n",
      "processing Sofya File16.png:    98 of  236, percentage:  41.53%, seconds spend: 2.21, total minutes spend: 4.81 \n",
      "processing Sofya File17.png:    99 of  236, percentage:  41.95%, seconds spend: 2.19, total minutes spend: 4.85 \n",
      "processing Sofya File15.png:   100 of  236, percentage:  42.37%, seconds spend: 1.60, total minutes spend: 4.87 \n",
      "processing Sofya File14.png:   101 of  236, percentage:  42.80%, seconds spend: 2.15, total minutes spend: 4.91 \n",
      "processing Sabina File19.png:   102 of  236, percentage:  43.22%, seconds spend: 2.85, total minutes spend: 4.96 \n",
      "processing Sabina File3.png:   103 of  236, percentage:  43.64%, seconds spend: 2.73, total minutes spend: 5.00 \n",
      "processing Sabina File2.png:   104 of  236, percentage:  44.07%, seconds spend: 2.67, total minutes spend: 5.05 \n",
      "processing Sabina File18.png:   105 of  236, percentage:  44.49%, seconds spend: 2.58, total minutes spend: 5.09 \n",
      "processing Sabina File1.png:   106 of  236, percentage:  44.92%, seconds spend: 2.38, total minutes spend: 5.13 \n",
      "processing Sabina File5.png:   107 of  236, percentage:  45.34%, seconds spend: 2.63, total minutes spend: 5.17 \n",
      "processing Sabina File4.png:   108 of  236, percentage:  45.76%, seconds spend: 3.17, total minutes spend: 5.23 \n",
      "processing Sabina File6.png:   109 of  236, percentage:  46.19%, seconds spend: 3.18, total minutes spend: 5.28 \n",
      "processing Sabina File7.png:   110 of  236, percentage:  46.61%, seconds spend: 1.91, total minutes spend: 5.31 \n",
      "processing Sabina File10.png:   111 of  236, percentage:  47.03%, seconds spend: 3.18, total minutes spend: 5.36 \n",
      "processing Sabina File11.png:   112 of  236, percentage:  47.46%, seconds spend: 2.50, total minutes spend: 5.41 \n",
      "processing Sabina File13.png:   113 of  236, percentage:  47.88%, seconds spend: 2.03, total minutes spend: 5.44 \n",
      "processing Sabina File9.png:   114 of  236, percentage:  48.31%, seconds spend: 2.58, total minutes spend: 5.48 \n",
      "processing Sabina File8.png:   115 of  236, percentage:  48.73%, seconds spend: 2.02, total minutes spend: 5.52 \n",
      "processing Sabina File12.png:   116 of  236, percentage:  49.15%, seconds spend: 3.29, total minutes spend: 5.57 \n",
      "processing Sabina File16.png:   117 of  236, percentage:  49.58%, seconds spend: 2.44, total minutes spend: 5.61 \n",
      "processing Sabina File17.png:   118 of  236, percentage:  50.00%, seconds spend: 1.94, total minutes spend: 5.64 \n",
      "processing Sabina File15.png:   119 of  236, percentage:  50.42%, seconds spend: 2.90, total minutes spend: 5.69 \n",
      "processing Sabina File14.png:   120 of  236, percentage:  50.85%, seconds spend: 1.59, total minutes spend: 5.72 \n",
      "processing Shivani File19.png:   121 of  236, percentage:  51.27%, seconds spend: 3.25, total minutes spend: 5.77 \n",
      "processing Shivani File3.png:   122 of  236, percentage:  51.69%, seconds spend: 8.66, total minutes spend: 5.92 \n",
      "processing Shivani File2.png:   123 of  236, percentage:  52.12%, seconds spend: 5.05, total minutes spend: 6.00 \n",
      "processing Shivani File18.png:   124 of  236, percentage:  52.54%, seconds spend: 6.26, total minutes spend: 6.11 \n",
      "processing Shivani File1.png:   125 of  236, percentage:  52.97%, seconds spend: 6.03, total minutes spend: 6.21 \n",
      "processing Shivani File5.png:   126 of  236, percentage:  53.39%, seconds spend: 7.15, total minutes spend: 6.33 \n",
      "processing Shivani File4.png:   127 of  236, percentage:  53.81%, seconds spend: 8.99, total minutes spend: 6.48 \n",
      "processing Shivani File20.png:   128 of  236, percentage:  54.24%, seconds spend: 8.56, total minutes spend: 6.62 \n",
      "processing Shivani File6.png:   129 of  236, percentage:  54.66%, seconds spend:10.85, total minutes spend: 6.80 \n",
      "processing Shivani File7.png:   130 of  236, percentage:  55.08%, seconds spend: 4.66, total minutes spend: 6.88 \n",
      "processing Shivani File21.png:   131 of  236, percentage:  55.51%, seconds spend: 4.05, total minutes spend: 6.94 \n",
      "processing Shivani File10.png:   132 of  236, percentage:  55.93%, seconds spend:10.04, total minutes spend: 7.11 \n",
      "processing Shivani File11.png:   133 of  236, percentage:  56.36%, seconds spend: 6.91, total minutes spend: 7.23 \n",
      "processing Shivani File13.png:   134 of  236, percentage:  56.78%, seconds spend: 8.58, total minutes spend: 7.37 \n",
      "processing Shivani File9.png:   135 of  236, percentage:  57.20%, seconds spend:11.01, total minutes spend: 7.55 \n",
      "processing Shivani File8.png:   136 of  236, percentage:  57.63%, seconds spend: 6.22, total minutes spend: 7.66 \n",
      "processing Shivani File12.png:   137 of  236, percentage:  58.05%, seconds spend: 6.37, total minutes spend: 7.76 \n",
      "processing Shivani File16.png:   138 of  236, percentage:  58.47%, seconds spend:10.33, total minutes spend: 7.93 \n",
      "processing Shivani File17.png:   139 of  236, percentage:  58.90%, seconds spend: 7.80, total minutes spend: 8.06 \n",
      "processing Shivani File15.png:   140 of  236, percentage:  59.32%, seconds spend: 7.20, total minutes spend: 8.18 \n",
      "processing Shivani File14.png:   141 of  236, percentage:  59.75%, seconds spend:10.28, total minutes spend: 8.36 \n",
      "processing Any File19.png:   142 of  236, percentage:  60.17%, seconds spend:10.12, total minutes spend: 8.52 \n",
      "processing Any File3.png:   143 of  236, percentage:  60.59%, seconds spend: 1.79, total minutes spend: 8.55 \n",
      "processing Any File2.png:   144 of  236, percentage:  61.02%, seconds spend: 3.28, total minutes spend: 8.61 \n",
      "processing Any File18.png:   145 of  236, percentage:  61.44%, seconds spend: 2.72, total minutes spend: 8.65 \n",
      "processing Any File1.png:   146 of  236, percentage:  61.86%, seconds spend: 3.17, total minutes spend: 8.71 \n"
     ]
    },
    {
     "name": "stdout",
     "output_type": "stream",
     "text": [
      "processing Any File5.png:   147 of  236, percentage:  62.29%, seconds spend: 3.38, total minutes spend: 8.76 \n",
      "processing Any File4.png:   148 of  236, percentage:  62.71%, seconds spend: 2.55, total minutes spend: 8.81 \n",
      "processing Any File20.png:   149 of  236, percentage:  63.14%, seconds spend: 3.38, total minutes spend: 8.86 \n",
      "processing Any File6.png:   150 of  236, percentage:  63.56%, seconds spend: 1.73, total minutes spend: 8.89 \n",
      "processing Any File7.png:   151 of  236, percentage:  63.98%, seconds spend: 2.70, total minutes spend: 8.94 \n",
      "processing Any File10.png:   152 of  236, percentage:  64.41%, seconds spend: 2.76, total minutes spend: 8.98 \n",
      "processing Any File11.png:   153 of  236, percentage:  64.83%, seconds spend: 2.67, total minutes spend: 9.03 \n",
      "processing Any File13.png:   154 of  236, percentage:  65.25%, seconds spend: 1.44, total minutes spend: 9.05 \n",
      "processing Any File9.png:   155 of  236, percentage:  65.68%, seconds spend: 2.72, total minutes spend: 9.10 \n",
      "processing Any File8.png:   156 of  236, percentage:  66.10%, seconds spend: 2.71, total minutes spend: 9.14 \n",
      "processing Any File12.png:   157 of  236, percentage:  66.53%, seconds spend: 2.71, total minutes spend: 9.19 \n",
      "processing Any File16.png:   158 of  236, percentage:  66.95%, seconds spend: 2.28, total minutes spend: 9.22 \n",
      "processing Any File17.png:   159 of  236, percentage:  67.37%, seconds spend: 2.62, total minutes spend: 9.27 \n",
      "processing Any File15.png:   160 of  236, percentage:  67.80%, seconds spend: 3.24, total minutes spend: 9.32 \n",
      "processing Any File14.png:   161 of  236, percentage:  68.22%, seconds spend: 2.68, total minutes spend: 9.37 \n",
      "processing Diarra File19.png:   162 of  236, percentage:  68.64%, seconds spend: 2.69, total minutes spend: 9.41 \n",
      "processing Diarra File3.png:   163 of  236, percentage:  69.07%, seconds spend: 3.48, total minutes spend: 9.47 \n",
      "processing Diarra File2.png:   164 of  236, percentage:  69.49%, seconds spend: 3.32, total minutes spend: 9.53 \n",
      "processing Diarra File18.png:   165 of  236, percentage:  69.92%, seconds spend: 3.46, total minutes spend: 9.58 \n",
      "processing Diarra File1.png:   166 of  236, percentage:  70.34%, seconds spend: 3.38, total minutes spend: 9.64 \n",
      "processing Diarra File5.png:   167 of  236, percentage:  70.76%, seconds spend: 3.34, total minutes spend: 9.69 \n",
      "processing Diarra File4.png:   168 of  236, percentage:  71.19%, seconds spend: 3.35, total minutes spend: 9.75 \n",
      "processing Diarra File6.png:   169 of  236, percentage:  71.61%, seconds spend: 3.34, total minutes spend: 9.81 \n",
      "processing Diarra File7.png:   170 of  236, percentage:  72.03%, seconds spend: 3.40, total minutes spend: 9.86 \n",
      "processing Diarra File10.png:   171 of  236, percentage:  72.46%, seconds spend: 3.48, total minutes spend: 9.92 \n",
      "processing Diarra File11.png:   172 of  236, percentage:  72.88%, seconds spend: 2.76, total minutes spend: 9.97 \n",
      "processing Diarra File13.png:   173 of  236, percentage:  73.31%, seconds spend: 3.35, total minutes spend:10.02 \n",
      "processing Diarra File9.png:   174 of  236, percentage:  73.73%, seconds spend: 3.53, total minutes spend:10.08 \n",
      "processing Diarra File8.png:   175 of  236, percentage:  74.15%, seconds spend: 3.50, total minutes spend:10.14 \n",
      "processing Diarra File12.png:   176 of  236, percentage:  74.58%, seconds spend: 2.89, total minutes spend:10.19 \n",
      "processing Diarra File16.png:   177 of  236, percentage:  75.00%, seconds spend: 3.23, total minutes spend:10.24 \n",
      "processing Diarra File17.png:   178 of  236, percentage:  75.42%, seconds spend: 2.94, total minutes spend:10.29 \n",
      "processing Diarra File15.png:   179 of  236, percentage:  75.85%, seconds spend: 3.29, total minutes spend:10.35 \n",
      "processing Diarra File14.png:   180 of  236, percentage:  76.27%, seconds spend: 2.74, total minutes spend:10.39 \n",
      "processing Noah File19.png:   181 of  236, percentage:  76.69%, seconds spend: 3.41, total minutes spend:10.45 \n",
      "processing Noah File3.png:   182 of  236, percentage:  77.12%, seconds spend: 2.73, total minutes spend:10.49 \n",
      "processing Noah File2.png:   183 of  236, percentage:  77.54%, seconds spend: 3.30, total minutes spend:10.55 \n",
      "processing Noah File18.png:   184 of  236, percentage:  77.97%, seconds spend: 3.54, total minutes spend:10.61 \n",
      "processing Noah File1.png:   185 of  236, percentage:  78.39%, seconds spend: 3.63, total minutes spend:10.67 \n",
      "processing Noah File5.png:   186 of  236, percentage:  78.81%, seconds spend: 0.95, total minutes spend:10.68 \n",
      "processing Noah File4.png:   187 of  236, percentage:  79.24%, seconds spend: 2.87, total minutes spend:10.73 \n",
      "processing Noah File6.png:   188 of  236, percentage:  79.66%, seconds spend: 2.69, total minutes spend:10.78 \n",
      "processing Noah File7.png:   189 of  236, percentage:  80.08%, seconds spend: 2.21, total minutes spend:10.81 \n",
      "processing Noah File10.png:   190 of  236, percentage:  80.51%, seconds spend: 2.86, total minutes spend:10.86 \n",
      "processing Noah File11.png:   191 of  236, percentage:  80.93%, seconds spend: 2.55, total minutes spend:10.90 \n",
      "processing Noah File13.png:   192 of  236, percentage:  81.36%, seconds spend: 2.50, total minutes spend:10.95 \n",
      "processing Noah File9.png:   193 of  236, percentage:  81.78%, seconds spend: 2.89, total minutes spend:10.99 \n",
      "processing Noah File8.png:   194 of  236, percentage:  82.20%, seconds spend: 2.60, total minutes spend:11.04 \n",
      "processing Noah File12.png:   195 of  236, percentage:  82.63%, seconds spend: 2.60, total minutes spend:11.08 \n",
      "processing Noah File16.png:   196 of  236, percentage:  83.05%, seconds spend: 3.04, total minutes spend:11.13 \n",
      "processing Noah File17.png:   197 of  236, percentage:  83.47%, seconds spend: 2.65, total minutes spend:11.18 \n",
      "processing Noah File15.png:   198 of  236, percentage:  83.90%, seconds spend: 3.28, total minutes spend:11.23 \n",
      "processing Noah File14.png:   199 of  236, percentage:  84.32%, seconds spend: 3.31, total minutes spend:11.29 \n",
      "processing Sina File19.png:   200 of  236, percentage:  84.75%, seconds spend: 2.43, total minutes spend:11.33 \n",
      "processing Sina File3.png:   201 of  236, percentage:  85.17%, seconds spend: 2.95, total minutes spend:11.38 \n",
      "processing Sina File2.png:   202 of  236, percentage:  85.59%, seconds spend: 2.38, total minutes spend:11.41 \n",
      "processing Sina File18.png:   203 of  236, percentage:  86.02%, seconds spend: 2.51, total minutes spend:11.46 \n",
      "processing Sina File1.png:   204 of  236, percentage:  86.44%, seconds spend: 1.97, total minutes spend:11.49 \n",
      "processing Sina File5.png:   205 of  236, percentage:  86.86%, seconds spend: 2.09, total minutes spend:11.52 \n",
      "processing Sina File4.png:   206 of  236, percentage:  87.29%, seconds spend: 2.12, total minutes spend:11.56 \n",
      "processing Sina File20.png:   207 of  236, percentage:  87.71%, seconds spend: 2.19, total minutes spend:11.60 \n",
      "processing Sina File6.png:   208 of  236, percentage:  88.14%, seconds spend: 0.73, total minutes spend:11.61 \n",
      "processing Sina File7.png:   209 of  236, percentage:  88.56%, seconds spend: 2.10, total minutes spend:11.64 \n",
      "processing Sina File10.png:   210 of  236, percentage:  88.98%, seconds spend: 1.52, total minutes spend:11.67 \n",
      "processing Sina File11.png:   211 of  236, percentage:  89.41%, seconds spend: 1.31, total minutes spend:11.69 \n",
      "processing Sina File13.png:   212 of  236, percentage:  89.83%, seconds spend: 1.14, total minutes spend:11.71 \n",
      "processing Sina File9.png:   213 of  236, percentage:  90.25%, seconds spend: 2.23, total minutes spend:11.75 \n",
      "processing Sina File8.png:   214 of  236, percentage:  90.68%, seconds spend: 3.24, total minutes spend:11.80 \n",
      "processing Sina File12.png:   215 of  236, percentage:  91.10%, seconds spend: 2.31, total minutes spend:11.84 \n",
      "processing Sina File16.png:   216 of  236, percentage:  91.53%, seconds spend: 1.53, total minutes spend:11.86 \n",
      "processing Sina File17.png:   217 of  236, percentage:  91.95%, seconds spend: 2.01, total minutes spend:11.90 \n",
      "processing Sina File15.png:   218 of  236, percentage:  92.37%, seconds spend: 2.56, total minutes spend:11.94 \n",
      "processing Sina File14.png:   219 of  236, percentage:  92.80%, seconds spend: 2.19, total minutes spend:11.98 \n",
      "processing Josh File3.png:   220 of  236, percentage:  93.22%, seconds spend: 2.08, total minutes spend:12.01 \n"
     ]
    },
    {
     "name": "stdout",
     "output_type": "stream",
     "text": [
      "processing Josh File2.png:   221 of  236, percentage:  93.64%, seconds spend: 2.49, total minutes spend:12.05 \n",
      "processing Josh File1.png:   222 of  236, percentage:  94.07%, seconds spend: 3.48, total minutes spend:12.11 \n",
      "processing Josh File5.png:   223 of  236, percentage:  94.49%, seconds spend: 3.16, total minutes spend:12.16 \n",
      "processing Josh File4.png:   224 of  236, percentage:  94.92%, seconds spend: 2.69, total minutes spend:12.21 \n",
      "processing Josh File6.png:   225 of  236, percentage:  95.34%, seconds spend: 2.61, total minutes spend:12.25 \n",
      "processing Josh File7.png:   226 of  236, percentage:  95.76%, seconds spend: 2.87, total minutes spend:12.30 \n",
      "processing Josh File10.png:   227 of  236, percentage:  96.19%, seconds spend: 2.93, total minutes spend:12.35 \n",
      "processing Josh File11.png:   228 of  236, percentage:  96.61%, seconds spend: 1.74, total minutes spend:12.38 \n",
      "processing Josh File13.png:   229 of  236, percentage:  97.03%, seconds spend: 2.14, total minutes spend:12.41 \n",
      "processing Josh File9.png:   230 of  236, percentage:  97.46%, seconds spend: 2.75, total minutes spend:12.46 \n",
      "processing Josh File8.png:   231 of  236, percentage:  97.88%, seconds spend: 2.90, total minutes spend:12.51 \n",
      "processing Josh File12.png:   232 of  236, percentage:  98.31%, seconds spend: 2.30, total minutes spend:12.55 \n",
      "processing Josh File16.png:   233 of  236, percentage:  98.73%, seconds spend: 1.53, total minutes spend:12.57 \n",
      "processing Josh File17.png:   234 of  236, percentage:  99.15%, seconds spend: 2.54, total minutes spend:12.61 \n",
      "processing Josh File15.png:   235 of  236, percentage:  99.58%, seconds spend: 3.36, total minutes spend:12.67 \n",
      "processing Josh File14.png:   236 of  236, percentage:  100.00%, seconds spend: 1.63, total minutes spend:12.70 \n"
     ]
    }
   ],
   "source": [
    "# Loop through all images in dataset folder\n",
    "for (i, imgPath) in enumerate(imgPaths):\n",
    "    name = imgPath.split('/')[1]     # Find the name of the artist, imgPath is sth like 'dataset/Josh/File14.png'\n",
    "    # Show the process of encoding generation\n",
    "    print(\"processing {n} {image}: {a:5d} of{b:5d}, percentage: {c: 5.2f}%, seconds spend:{t:5.2f}, total minutes spend:{tt:5.2f} \"\n",
    "          .format(n=name, image = imgPath.split('/')[-1], a = i + 1, b = len(imgPaths), c = (i + 1) * 100/len(imgPaths), \n",
    "          t = (datetime.now()-start).total_seconds(),tt = (datetime.now()-end).total_seconds()/60))\n",
    "    start = datetime.now()\n",
    "    \n",
    "    \n",
    "    img = cv2.imread(imgPath)    # cv2 read the image\n",
    "    img_rgb = cv2.cvtColor(img, cv2.COLOR_BGR2RGB)  #cv2 uses BGR, need convert to RGB, which is used by dlib\n",
    "    \n",
    "    # bounding box of face, model can also be HOG, which is faster, however, cnn is more accurate\n",
    "    boxes = face_recognition.face_locations(img_rgb, model='cnn')\n",
    "    \n",
    "    # If there is more than one face (box) appears in the image, usually there are not the same person, \n",
    "    # this situation should be avoid\n",
    "    if len(boxes) != 1:\n",
    "        print(name, imgPath, len(boxes))\n",
    "        break           \n",
    "    else:     \n",
    "        # face encoding based on the image and bounding box(face)\n",
    "        encodings = face_recognition.face_encodings(img_rgb, boxes) \n",
    "    \n",
    "        knownEncodings.append(encodings)\n",
    "        knownArtists.append(name)\n",
    "\n",
    "        for box in boxes: # should be only 1 box\n",
    "            top,right,bottom,left = box\n",
    "            cv2.rectangle(img,(left,top),(right,bottom),(0,255,0),2)\n",
    "        cv2.imshow('img',img)    \n",
    "        cv2.waitKey(1)\n",
    "       "
   ]
  },
  {
   "cell_type": "code",
   "execution_count": 8,
   "metadata": {},
   "outputs": [
    {
     "data": {
      "text/plain": [
       "True"
      ]
     },
     "execution_count": 8,
     "metadata": {},
     "output_type": "execute_result"
    }
   ],
   "source": [
    "# Check number of image equal to number of face encodings\n",
    "len(knownEncodings) == len(imgPaths)"
   ]
  },
  {
   "cell_type": "code",
   "execution_count": 9,
   "metadata": {
    "collapsed": true
   },
   "outputs": [],
   "source": [
    "# Build the dictionary of face encodings\n",
    "Encodings_Dictionary = {\"encodings\":knownEncodings, \"artists\":name}"
   ]
  },
  {
   "cell_type": "code",
   "execution_count": 10,
   "metadata": {},
   "outputs": [],
   "source": [
    "# Open file for dump encodings\n",
    "file = open(args.encoding, 'wb')\n",
    "file.write(pickle.dumps(Encodings_Dictionary))\n",
    "file.close()"
   ]
  },
  {
   "cell_type": "code",
   "execution_count": null,
   "metadata": {
    "collapsed": true
   },
   "outputs": [],
   "source": []
  }
 ],
 "metadata": {
  "kernelspec": {
   "display_name": "Python 3",
   "language": "python",
   "name": "python3"
  },
  "language_info": {
   "codemirror_mode": {
    "name": "ipython",
    "version": 3
   },
   "file_extension": ".py",
   "mimetype": "text/x-python",
   "name": "python",
   "nbconvert_exporter": "python",
   "pygments_lexer": "ipython3",
   "version": "3.6.2"
  }
 },
 "nbformat": 4,
 "nbformat_minor": 2
}
