{
 "cells": [
  {
   "cell_type": "markdown",
   "metadata": {
    "collapsed": true
   },
   "source": [
    "# Face Detection using face_recognition"
   ]
  },
  {
   "cell_type": "code",
   "execution_count": null,
   "metadata": {
    "collapsed": true
   },
   "outputs": [],
   "source": [
    "import face_recognition\n",
    "import cv2\n",
    "import matplotlib.patches as patches\n",
    "from IPython.display import clear_output"
   ]
  },
  {
   "cell_type": "code",
   "execution_count": 3,
   "metadata": {
    "collapsed": true
   },
   "outputs": [],
   "source": [
    "video_capture = cv2.VideoCapture(\"now_united_who_would_think_that_love_1080p.mp4\")"
   ]
  },
  {
   "cell_type": "code",
   "execution_count": 4,
   "metadata": {
    "collapsed": true
   },
   "outputs": [],
   "source": [
    "frame_count = 0"
   ]
  },
  {
   "cell_type": "code",
   "execution_count": null,
   "metadata": {},
   "outputs": [],
   "source": [
    "while video_capture.isOpened():\n",
    "    ret, frame = video_capture.read()\n",
    "    if not ret:\n",
    "        video_capture.release()\n",
    "        break\n",
    "        \n",
    "    frame_count += 1\n",
    "    if frame_count % 5 == 0:\n",
    "        frame = cv2.cvtColor(frame, cv2.COLOR_BGR2RGB)\n",
    "        \n",
    "        rgb_frame = frame[:,:,::-1]\n",
    "        \n",
    "        #multiple faces in one frame\n",
    "        face_locations = face_recognition.face_locations(rgb_frame) #model = 'hog'\n",
    "        \n",
    "        for face_location in face_locations:\n",
    "            \n",
    "            top,right,bottom,left = face_location\n",
    "            cv2.rectangle(frame,(left,top),(right,bottom),(0,255,0),2)\n",
    "            cv2.imshow('img',rgb_frame)    \n",
    "            cv2.waitKey(1)\n",
    "            "
   ]
  },
  {
   "cell_type": "code",
   "execution_count": null,
   "metadata": {
    "collapsed": true
   },
   "outputs": [],
   "source": [
    "\n",
    "# use matplotlib show image and box initially\n",
    "# from matplotlib.pyplot import imshow\n",
    "# import matplotlib.pyplot as plt\n",
    "# %matplotlib inline\n",
    "# while video_capture.isOpened():\n",
    "#     ret, frame = video_capture.read()\n",
    "#     if not ret:\n",
    "#         video_capture.release()\n",
    "#         break\n",
    "        \n",
    "#     frame_count += 1\n",
    "#     if frame_count % 20 == 0:\n",
    "#         frame = cv2.cvtColor(frame, cv2.COLOR_BGR2RGB)\n",
    "#         plt.figure(figsize=(20,10))\n",
    "#         plt.title(\"Input Stream\")\n",
    "#         plt.imshow(frame)\n",
    "        \n",
    "#         rgb_frame = frame[:,:,::-1]\n",
    "#         face_locations = face_recognition.face_locations(rgb_frame)\n",
    "        \n",
    "#         for face_location in face_locations:\n",
    "            \n",
    "#             x=[face_location[3],face_location[1]]\n",
    "#             y=[face_location[0],face_location[0]]\n",
    "#             plt.plot(x,y,lw=4, color='R')\n",
    "#             x=[face_location[3],face_location[1]]\n",
    "#             y=[face_location[2],face_location[2]]\n",
    "#             plt.plot(x,y,lw=4, color='B')\n",
    "#             x=[face_location[3],face_location[3]]\n",
    "#             y=[face_location[0],face_location[2]]\n",
    "#             plt.plot(x,y,lw=4, color='G')\n",
    "#             x=[face_location[1],face_location[1]]\n",
    "#             y=[face_location[0],face_location[2]]\n",
    "#             plt.plot(x,y,lw=4, color='Y')\n",
    "#             top, right, bottom,left = face_location\n",
    "\n",
    "\n",
    "\n",
    "#         plt.show()\n",
    "#         clear_output(wait=True)\n",
    "            "
   ]
  }
 ],
 "metadata": {
  "kernelspec": {
   "display_name": "Python 3",
   "language": "python",
   "name": "python3"
  },
  "language_info": {
   "codemirror_mode": {
    "name": "ipython",
    "version": 3
   },
   "file_extension": ".py",
   "mimetype": "text/x-python",
   "name": "python",
   "nbconvert_exporter": "python",
   "pygments_lexer": "ipython3",
   "version": "3.6.2"
  }
 },
 "nbformat": 4,
 "nbformat_minor": 2
}
