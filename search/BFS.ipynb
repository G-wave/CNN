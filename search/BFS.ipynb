{
 "cells": [
  {
   "cell_type": "code",
   "execution_count": 37,
   "metadata": {
    "collapsed": true
   },
   "outputs": [],
   "source": [
    "def BFS_Explore_Nodes(Graph, Start):\n",
    "    explored = []\n",
    "    frontier = [Start]\n",
    "    \n",
    "    while frontier:\n",
    "        node = frontier.pop(0)\n",
    "        if node not in explored:\n",
    "            explored.append(node)\n",
    "            neighbors = Graph[node]\n",
    "            for neighbor in neighbors:\n",
    "                frontier.append(neighbor)\n",
    "    return(explored)            \n",
    "        "
   ]
  },
  {
   "cell_type": "code",
   "execution_count": 38,
   "metadata": {
    "collapsed": true
   },
   "outputs": [],
   "source": [
    "graph = {'A':['B','C'],'B':['A','D','E'], 'C':['A','F','G'],'D':['B'],'E':['B'],'F':['C'],'G':['C']}"
   ]
  },
  {
   "cell_type": "code",
   "execution_count": 39,
   "metadata": {},
   "outputs": [
    {
     "data": {
      "text/plain": [
       "['B', 'A', 'D', 'E', 'C', 'F', 'G']"
      ]
     },
     "execution_count": 39,
     "metadata": {},
     "output_type": "execute_result"
    }
   ],
   "source": [
    "BFS_Explore_Nodes(graph, 'B')"
   ]
  },
  {
   "cell_type": "code",
   "execution_count": 42,
   "metadata": {},
   "outputs": [],
   "source": [
    "def BFS_Find_Path(Graph, Start, Goal):\n",
    "    explored = []\n",
    "    frontier = [[Start]]\n",
    "    \n",
    "    if Start == Goal:\n",
    "        return(\"Start == Goal\")\n",
    "    \n",
    "    while(frontier):\n",
    "        path = frontier.pop(0)\n",
    "        \n",
    "        node = path[-1]\n",
    "        \n",
    "        if node not in explored:\n",
    "            neighbors = Graph[node]\n",
    "            \n",
    "            for neighbor in neighbors:\n",
    "                new_path = list(path)\n",
    "                new_path.append(neighbor)\n",
    "                print(new_path)\n",
    "                \n",
    "                frontier.append(new_path)\n",
    "                if neighbor == Goal:\n",
    "                    return new_path\n",
    "            explored.append(node)    \n",
    "\n",
    "    "
   ]
  },
  {
   "cell_type": "code",
   "execution_count": 43,
   "metadata": {},
   "outputs": [
    {
     "name": "stdout",
     "output_type": "stream",
     "text": [
      "['A', 'B']\n",
      "['A', 'C']\n",
      "['A', 'B', 'A']\n",
      "['A', 'B', 'D']\n"
     ]
    },
    {
     "data": {
      "text/plain": [
       "['A', 'B', 'D']"
      ]
     },
     "execution_count": 43,
     "metadata": {},
     "output_type": "execute_result"
    }
   ],
   "source": [
    "BFS_Find_Path(graph, 'A', 'D')"
   ]
  },
  {
   "cell_type": "code",
   "execution_count": null,
   "metadata": {
    "collapsed": true
   },
   "outputs": [],
   "source": []
  }
 ],
 "metadata": {
  "kernelspec": {
   "display_name": "Python 3",
   "language": "python",
   "name": "python3"
  },
  "language_info": {
   "codemirror_mode": {
    "name": "ipython",
    "version": 3
   },
   "file_extension": ".py",
   "mimetype": "text/x-python",
   "name": "python",
   "nbconvert_exporter": "python",
   "pygments_lexer": "ipython3",
   "version": "3.6.2"
  }
 },
 "nbformat": 4,
 "nbformat_minor": 2
}
